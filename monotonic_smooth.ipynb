{
 "cells": [
  {
   "cell_type": "code",
   "execution_count": 33,
   "id": "bb26ad03-dc2a-437a-9065-8f33c4a41207",
   "metadata": {},
   "outputs": [],
   "source": [
    "import pandas as pd\n",
    "import math\n",
    "import numpy \n",
    "import matplotlib.pyplot as plt"
   ]
  },
  {
   "cell_type": "code",
   "execution_count": 34,
   "id": "28a9ac51-34eb-452c-bf82-e4400b2a4ee9",
   "metadata": {},
   "outputs": [
    {
     "data": {
      "text/html": [
       "<div>\n",
       "<style scoped>\n",
       "    .dataframe tbody tr th:only-of-type {\n",
       "        vertical-align: middle;\n",
       "    }\n",
       "\n",
       "    .dataframe tbody tr th {\n",
       "        vertical-align: top;\n",
       "    }\n",
       "\n",
       "    .dataframe thead th {\n",
       "        text-align: right;\n",
       "    }\n",
       "</style>\n",
       "<table border=\"1\" class=\"dataframe\">\n",
       "  <thead>\n",
       "    <tr style=\"text-align: right;\">\n",
       "      <th></th>\n",
       "      <th>Fitch_grade</th>\n",
       "      <th>Fitch_observed_DR</th>\n",
       "      <th>Moodys_grade</th>\n",
       "      <th>Moodys_observed_DR</th>\n",
       "      <th>SnP_grade</th>\n",
       "      <th>SnP_observed_DR</th>\n",
       "    </tr>\n",
       "  </thead>\n",
       "  <tbody>\n",
       "    <tr>\n",
       "      <th>0</th>\n",
       "      <td>AAA</td>\n",
       "      <td>0.0012</td>\n",
       "      <td>Aaa</td>\n",
       "      <td>0.0000</td>\n",
       "      <td>AAA</td>\n",
       "      <td>0.0000</td>\n",
       "    </tr>\n",
       "    <tr>\n",
       "      <th>1</th>\n",
       "      <td>AA+</td>\n",
       "      <td>0.0000</td>\n",
       "      <td>Aa1</td>\n",
       "      <td>0.0000</td>\n",
       "      <td>AA+</td>\n",
       "      <td>0.0000</td>\n",
       "    </tr>\n",
       "    <tr>\n",
       "      <th>2</th>\n",
       "      <td>AA</td>\n",
       "      <td>0.0000</td>\n",
       "      <td>Aa2</td>\n",
       "      <td>0.0000</td>\n",
       "      <td>AA</td>\n",
       "      <td>0.0002</td>\n",
       "    </tr>\n",
       "    <tr>\n",
       "      <th>3</th>\n",
       "      <td>AA-</td>\n",
       "      <td>0.0008</td>\n",
       "      <td>Aa3</td>\n",
       "      <td>0.0004</td>\n",
       "      <td>AA-</td>\n",
       "      <td>0.0003</td>\n",
       "    </tr>\n",
       "    <tr>\n",
       "      <th>4</th>\n",
       "      <td>A+</td>\n",
       "      <td>0.0000</td>\n",
       "      <td>A1</td>\n",
       "      <td>0.0006</td>\n",
       "      <td>A+</td>\n",
       "      <td>0.0005</td>\n",
       "    </tr>\n",
       "  </tbody>\n",
       "</table>\n",
       "</div>"
      ],
      "text/plain": [
       "  Fitch_grade  Fitch_observed_DR Moodys_grade  Moodys_observed_DR SnP_grade  \\\n",
       "0         AAA             0.0012          Aaa              0.0000       AAA   \n",
       "1         AA+             0.0000          Aa1              0.0000       AA+   \n",
       "2          AA             0.0000          Aa2              0.0000        AA   \n",
       "3         AA-             0.0008          Aa3              0.0004       AA-   \n",
       "4          A+             0.0000           A1              0.0006        A+   \n",
       "\n",
       "   SnP_observed_DR  \n",
       "0           0.0000  \n",
       "1           0.0000  \n",
       "2           0.0002  \n",
       "3           0.0003  \n",
       "4           0.0005  "
      ]
     },
     "execution_count": 34,
     "metadata": {},
     "output_type": "execute_result"
    }
   ],
   "source": [
    "df = pd.read_excel(\"cr.xls\")\n",
    "df.head()"
   ]
  },
  {
   "cell_type": "code",
   "execution_count": 35,
   "id": "f33fba98-1f40-4e59-8fd3-25d04ed7b9df",
   "metadata": {},
   "outputs": [
    {
     "data": {
      "text/plain": [
       "[<matplotlib.lines.Line2D at 0x243418e1e50>]"
      ]
     },
     "execution_count": 35,
     "metadata": {},
     "output_type": "execute_result"
    },
    {
     "data": {
      "image/png": "[encoded data removed]",
      "text/plain": [
       "<Figure size 432x288 with 1 Axes>"
      ]
     },
     "metadata": {
      "needs_background": "light"
     },
     "output_type": "display_data"
    }
   ],
   "source": [
    "plt.plot(df.Fitch_observed_DR)\n",
    "plt.plot(df.Moodys_observed_DR)\n",
    "plt.plot(df.SnP_observed_DR)"
   ]
  },
  {
   "cell_type": "code",
   "execution_count": 37,
   "id": "9cb241c3-84d6-4853-927d-3ffbe9c0617c",
   "metadata": {},
   "outputs": [],
   "source": [
    "def mono_smooth(y):\n",
    "    y = y.dropna().to_numpy()\n",
    "    x = numpy.arange(len(y))\n",
    "    N = len(y)\n",
    "\n",
    "    # Prepare bases (Imat) and penalty\n",
    "    dd = 3\n",
    "    E  = numpy.eye(N)\n",
    "    D3 = numpy.diff(E, n = dd, axis=0)\n",
    "    D1 = numpy.diff(E, n = 1, axis=0)\n",
    "    la = 100\n",
    "    kp = 10000000\n",
    "\n",
    "    # Monotone smoothing\n",
    "    ws = numpy.zeros(N - 1)\n",
    "\n",
    "    for it in range(30):\n",
    "        Ws      = numpy.diag(ws * kp)\n",
    "        mon_cof = numpy.linalg.solve(E + la * D3.T @ D3 + D1.T @ Ws @ D1, y)\n",
    "        ws_new  = (D1 @ mon_cof < 0.0) * 1\n",
    "        dw      = numpy.sum(ws != ws_new)\n",
    "        ws      = ws_new\n",
    "        if(dw == 0): break  \n",
    "\n",
    "    # Monotonic and non monotonic fits\n",
    "    return mon_cof"
   ]
  },
  {
   "cell_type": "code",
   "execution_count": 42,
   "id": "71db061e-a1ef-4212-947f-89259aa77a11",
   "metadata": {},
   "outputs": [
    {
     "name": "stderr",
     "output_type": "stream",
     "text": [
      "<ipython-input-42-333765bc0fff>:3: SettingWithCopyWarning: \n",
      "A value is trying to be set on a copy of a slice from a DataFrame\n",
      "\n",
      "See the caveats in the documentation: https://pandas.pydata.org/pandas-docs/stable/user_guide/indexing.html#returning-a-view-versus-a-copy\n",
      "  df['SnP_observed_DR'][:-1] = mono_smooth(df.SnP_observed_DR)\n"
     ]
    },
    {
     "data": {
      "text/plain": [
       "<matplotlib.axes._subplots.AxesSubplot at 0x24341c5f9d0>"
      ]
     },
     "execution_count": 42,
     "metadata": {},
     "output_type": "execute_result"
    },
    {
     "data": {
      "text/plain": [
       "<Figure size 2000x1500 with 0 Axes>"
      ]
     },
     "metadata": {},
     "output_type": "display_data"
    },
    {
     "data": {
      "image/png": "[encoded data removed]",
      "text/plain": [
       "<Figure size 432x288 with 1 Axes>"
      ]
     },
     "metadata": {
      "needs_background": "light"
     },
     "output_type": "display_data"
    }
   ],
   "source": [
    "df['Fitch_observed_DR'] = mono_smooth(df.Fitch_observed_DR)\n",
    "df['Moodys_observed_DR'] = mono_smooth(df.Moodys_observed_DR)\n",
    "df['SnP_observed_DR'][:-1] = mono_smooth(df.SnP_observed_DR)\n",
    "df.plot()"
   ]
  },
  {
   "cell_type": "code",
   "execution_count": null,
   "id": "16cbc4c7-2e2a-40f4-a95d-4fc015e867a4",
   "metadata": {},
   "outputs": [],
   "source": []
  }
 ],
 "metadata": {
  "kernelspec": {
   "display_name": "Python 3",
   "language": "python",
   "name": "python3"
  },
  "language_info": {
   "codemirror_mode": {
    "name": "ipython",
    "version": 3
   },
   "file_extension": ".py",
   "mimetype": "text/x-python",
   "name": "python",
   "nbconvert_exporter": "python",
   "pygments_lexer": "ipython3",
   "version": "3.9.6"
  }
 },
 "nbformat": 4,
 "nbformat_minor": 5
}
